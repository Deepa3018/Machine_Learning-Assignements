{
 "cells": [
  {
   "cell_type": "code",
   "execution_count": 4,
   "id": "de7bcde2",
   "metadata": {},
   "outputs": [],
   "source": [
    "import pickle"
   ]
  },
  {
   "cell_type": "code",
   "execution_count": 5,
   "id": "72d10cc3",
   "metadata": {},
   "outputs": [
    {
     "name": "stdout",
     "output_type": "stream",
     "text": [
      "Age:2\n",
      "BP:76.4\n",
      "Al:3\n",
      "Su:0\n",
      "Bgr:148\n",
      "Bu:57\n",
      "sc:3\n",
      "sod:137\n",
      "pot:4.6\n",
      "hrmo:12.5\n",
      "pcv:38.86\n",
      "wc:8408\n",
      "rc:4.70\n",
      "sg_b:0\n",
      "sg_c:1\n",
      "sg_d:0\n",
      "sg_e:0\n",
      "rbc_normal:0\n",
      "pc_normal:0\n",
      "pcc_present:0\n",
      "ba_present:0\n",
      "htn_yes:0\n",
      "dm_yes:0\n",
      "cad_yes:0\n",
      "appet_yes:1\n",
      "pe_yes:1\n",
      "ane_yes:0\n"
     ]
    }
   ],
   "source": [
    "'age', 'bp', 'al', 'su', 'bgr', 'bu', 'sc', 'sod', 'pot', 'hrmo', 'pcv', 'wc', 'rc', 'sg_b', 'sg_c', 'sg_d', 'sg_e', 'rbc_normal', 'pc_normal', 'pcc_present', 'ba_present', 'htn_yes', 'dm_yes', 'cad_yes', 'appet_yes', 'pe_yes', 'ane_yes'\n",
    "age_input=float(input(\"Age:\"))\n",
    "bp_input=float(input(\"BP:\"))\n",
    "al_input=float(input(\"Al:\"))\n",
    "su_input=float(input(\"Su:\"))\n",
    "bgr_input=float(input(\"Bgr:\"))\n",
    "bu_input=float(input(\"Bu:\"))\n",
    "sc_input=float(input(\"sc:\"))\n",
    "sod_input=float(input(\"sod:\"))\n",
    "pot_input=float(input(\"pot:\"))\n",
    "hrmo_input=float(input(\"hrmo:\"))\n",
    "pcv_input=float(input(\"pcv:\"))\n",
    "wc_input=float(input(\"wc:\"))\n",
    "rc_input=float(input(\"rc:\"))\n",
    "sg_b_input=float(input(\"sg_b:\"))\n",
    "sg_c_input=float(input(\"sg_c:\"))\n",
    "sg_d_input=float(input(\"sg_d:\"))\n",
    "sg_e_input=float(input(\"sg_e:\"))\n",
    "rbc_normal_input=float(input(\"rbc_normal:\"))\n",
    "pc_normal_input=float(input(\"pc_normal:\"))\n",
    "pcc_present_input=float(input(\"pcc_present:\"))\n",
    "ba_present_input=float(input(\"ba_present:\"))\n",
    "htn_yes_input=float(input(\"htn_yes:\"))\n",
    "dm_yes_input=float(input(\"dm_yes:\"))\n",
    "cad_yes_input=float(input(\"cad_yes:\"))\n",
    "appet_yes_input=float(input(\"appet_yes:\"))\n",
    "pe_yes_input=float(input(\"pe_yes:\"))\n",
    "ane_yes_input=float(input(\"ane_yes:\"))\n"
   ]
  },
  {
   "cell_type": "code",
   "execution_count": 6,
   "id": "f2850b72",
   "metadata": {},
   "outputs": [
    {
     "name": "stdout",
     "output_type": "stream",
     "text": [
      "Future_Predict=[1]\n"
     ]
    },
    {
     "name": "stderr",
     "output_type": "stream",
     "text": [
      "C:\\Anaconda3\\Lib\\site-packages\\sklearn\\base.py:464: UserWarning: X does not have valid feature names, but RandomForestClassifier was fitted with feature names\n",
      "  warnings.warn(\n"
     ]
    }
   ],
   "source": [
    "loaded_module=pickle.load(open(\"FinalizedRFClassifier_GridCV.sav\", 'rb'))\n",
    "Future_predict=loaded_module.predict([[age_input,bp_input,al_input,su_input,bgr_input,bu_input,sc_input,sod_input,pot_input,hrmo_input,pcv_input,wc_input,rc_input,sg_b_input,sg_c_input,sg_d_input,sg_e_input,rbc_normal_input,pc_normal_input,pcc_present_input,ba_present_input,htn_yes_input,dm_yes_input,cad_yes_input,appet_yes_input,pe_yes_input,ane_yes_input]])\n",
    "print(\"Future_Predict={}\".format(Future_predict))"
   ]
  }
 ],
 "metadata": {
  "kernelspec": {
   "display_name": "Python 3 (ipykernel)",
   "language": "python",
   "name": "python3"
  },
  "language_info": {
   "codemirror_mode": {
    "name": "ipython",
    "version": 3
   },
   "file_extension": ".py",
   "mimetype": "text/x-python",
   "name": "python",
   "nbconvert_exporter": "python",
   "pygments_lexer": "ipython3",
   "version": "3.11.5"
  }
 },
 "nbformat": 4,
 "nbformat_minor": 5
}
